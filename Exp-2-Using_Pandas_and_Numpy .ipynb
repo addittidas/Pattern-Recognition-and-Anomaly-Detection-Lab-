{
 "cells": [
  {
   "cell_type": "markdown",
   "id": "10779b20-5000-4bd9-9fb3-b65ef74e1664",
   "metadata": {},
   "source": [
    "<center\n",
    "<# Experiment-2\n",
    "# Using Pandas and Numpy \n",
    "</center>"
   ]
  },
  {
   "cell_type": "markdown",
   "id": "ae3790c5-2165-4b4f-9766-1cee8ac04dbf",
   "metadata": {},
   "source": [
    "<h1 style=\"text-align: center;\">Experiment-2</h1>\n",
    "<h1 style=\"text-align: center;\">Using Pandas and Numpy </h1>"
   ]
  },
  {
   "cell_type": "markdown",
   "id": "27a7bb11-b83f-42e0-a70c-da921f2abcf2",
   "metadata": {},
   "source": [
    "## Pandas\n",
    "Pandas is a very popular library for working with data (its goal is to be the most powerful and flexible open-source tool). DataFrames are at the center of pandas. A DataFrame is structured like a table or spreadsheet. The rows and the columns both have indexes, and you can perform operations on rows or columns separately.\n",
    "\n",
    "A pandas DataFrame can be easily changed and manipulated. Pandas has helpful functions for handling missing data, performing operations on columns and rows, and transforming data. If that wasn’t enough, a lot of SQL functions have counterparts in pandas, such as join, merge, filter by, and group by. With all of these powerful tools, it should come as no surprise that pandas is very popular among data scientists.\n",
    "\n",
    "## NumPy\n",
    "NumPy is an open-source Python library that facilitates efficient numerical operations on large quantities of data. There are a few functions that exist in NumPy that we use on pandas DataFrames. NumPy is a dependency of Pandas."
   ]
  },
  {
   "cell_type": "markdown",
   "id": "9d62d0cd-0075-48a3-b164-753f0abb289c",
   "metadata": {},
   "source": [
    "## NumPy Arrays\n",
    "NumPy arrays are unique in that they are more flexible than normal Python lists. They are called ndarrays since they can have any number (n) of dimensions (d). They hold a collection of items of any one data type and can be either a vector (one-dimensional) or a matrix (multi-dimensional). NumPy arrays allow for fast element access and efficient data manipulation."
   ]
  },
  {
   "cell_type": "code",
   "execution_count": 26,
   "id": "612d8aad-5001-4f5a-8cb8-96c62e83900f",
   "metadata": {},
   "outputs": [
    {
     "name": "stdout",
     "output_type": "stream",
     "text": [
      "[11 22 33 44]\n"
     ]
    }
   ],
   "source": [
    "import numpy as np\n",
    "list1 = [11,22,33,44]\n",
    "array1 = np.array(list1)\n",
    "print(array1)"
   ]
  },
  {
   "cell_type": "code",
   "execution_count": 28,
   "id": "03b9cadb-c2d9-45ea-ad35-90e33c5d76b4",
   "metadata": {},
   "outputs": [
    {
     "name": "stdout",
     "output_type": "stream",
     "text": [
      "[[1 2 3]\n",
      " [4 5 6]]\n"
     ]
    }
   ],
   "source": [
    "# a two-dimensional ndarray from a list\n",
    "list2 = [[1,2,3],[4,5,6]]\n",
    "array2 = np.array(list2)\n",
    "print(array2)"
   ]
  },
  {
   "cell_type": "code",
   "execution_count": 29,
   "id": "a1715008-f843-4ae8-bb42-9ef83b855a28",
   "metadata": {},
   "outputs": [
    {
     "name": "stdout",
     "output_type": "stream",
     "text": [
      "[2 3 4 5]\n"
     ]
    }
   ],
   "source": [
    "# Slicing\n",
    "import numpy as np\n",
    "arr = np.array([1, 2, 3, 4, 5, 6, 7])\n",
    "print(arr[1:5])"
   ]
  },
  {
   "cell_type": "code",
   "execution_count": 30,
   "id": "b929df7b-b924-430d-aab8-2d0ff496d994",
   "metadata": {},
   "outputs": [
    {
     "name": "stdout",
     "output_type": "stream",
     "text": [
      "(2, 4)\n"
     ]
    }
   ],
   "source": [
    "# Shape\n",
    "arr = np.array([[1, 2, 3, 4], [5, 6, 7, 8]])\n",
    "print(arr.shape)"
   ]
  },
  {
   "cell_type": "code",
   "execution_count": 31,
   "id": "8916830f-1c56-4877-8ef5-ea7993dee3f8",
   "metadata": {},
   "outputs": [
    {
     "name": "stdout",
     "output_type": "stream",
     "text": [
      "[1 2 3 4 5 6]\n"
     ]
    }
   ],
   "source": [
    "# Join\n",
    "arr1 = np.array([1, 2, 3])\n",
    "arr2 = np.array([4, 5, 6])\n",
    "arr = np.concatenate((arr1, arr2))\n",
    "print(arr)"
   ]
  },
  {
   "cell_type": "code",
   "execution_count": 32,
   "id": "b194c11c-c741-4ba9-9c5c-b4b644b22f11",
   "metadata": {},
   "outputs": [
    {
     "name": "stdout",
     "output_type": "stream",
     "text": [
      "[0 1 2 3]\n"
     ]
    }
   ],
   "source": [
    "# Sort\n",
    "arr = np.array([3, 2, 0, 1])\n",
    "print(np.sort(arr))"
   ]
  },
  {
   "cell_type": "markdown",
   "id": "1608a95b-ec91-4e28-ad70-7daee44a0f93",
   "metadata": {},
   "source": [
    "## Pandas Series and Dataframes\n",
    "Just as the ndarray is the foundation of the NumPy library, the Series is the core object of the pandas library. A pandas Series is very similar to a one-dimensional NumPy array, but it has additional functionality that allows values in the Series to be indexed using labels. A NumPy array does not have the flexibility to do this. This labeling is useful when you are storing pieces of data that have other data associated with them. Say you want to store the ages of students in an online course to eventually figure out the average student age. If stored in a NumPy array, you could only access these ages with the internal ndarray indices 0,1,2.... With a Series object, the indices of values are set to 0,1,2... by default, but you can customize the indices to be other values such as student names so an age can be accessed using a name. Customized indices of a Series are established by sending values into the Series constructor, as you will see below.\n",
    "\n",
    "A Series holds items of any one data type and can be created by sending in a scalar value, Python list, dictionary, or ndarray as a parameter to the pandas Series constructor. If a dictionary is sent in, the keys may be used as the indices."
   ]
  },
  {
   "cell_type": "code",
   "execution_count": 17,
   "id": "3094138e-e71c-4e91-8f0d-a5863c4a06fa",
   "metadata": {},
   "outputs": [
    {
     "name": "stdout",
     "output_type": "stream",
     "text": [
      "0    11\n",
      "1    22\n",
      "2    33\n",
      "dtype: int32\n"
     ]
    }
   ],
   "source": [
    "# Creating a Series using a NumPy array of num with the default numerical indices\n",
    "num = np.array([11,22,33])\n",
    "series1 = pd.Series(num)\n",
    "print(series1)"
   ]
  },
  {
   "cell_type": "code",
   "execution_count": 11,
   "id": "f5e11d5d-ad88-4952-96e8-4f0c9e0e9c84",
   "metadata": {},
   "outputs": [
    {
     "name": "stdout",
     "output_type": "stream",
     "text": [
      "0    24.0\n",
      "1    34.0\n",
      "2    44.0\n",
      "3    54.0\n",
      "4    64.0\n",
      "dtype: float64\n"
     ]
    }
   ],
   "source": [
    "import pandas as pd\n",
    "import numpy as np\n",
    "s=pd.Series(np.linspace(24,64,5))\n",
    "print(s)"
   ]
  },
  {
   "cell_type": "markdown",
   "id": "6fcefd8d-b8c0-4e69-b69a-6efe3979d7cc",
   "metadata": {},
   "source": [
    "\n",
    "\n",
    "When printing a Series, the data type of its elements is also printed. To customize the indices of a Series object, use the index argument of the Series constructor."
   ]
  },
  {
   "cell_type": "code",
   "execution_count": 12,
   "id": "db622283-b04d-47c7-987c-13fd9885585d",
   "metadata": {},
   "outputs": [
    {
     "name": "stdout",
     "output_type": "stream",
     "text": [
      "a     1\n",
      "b     4\n",
      "c     7\n",
      "d    10\n",
      "e    13\n",
      "dtype: int64\n"
     ]
    }
   ],
   "source": [
    "# Changing index of the series\n",
    "import pandas as pd\n",
    "import numpy as np\n",
    "s1=pd.Series(range(1,15,3),index=[x for x in 'abcde'])\n",
    "print(s1)"
   ]
  },
  {
   "cell_type": "code",
   "execution_count": 13,
   "id": "f093864b-3aed-4c29-83c6-a6c02009de44",
   "metadata": {},
   "outputs": [
    {
     "name": "stdout",
     "output_type": "stream",
     "text": [
      "9     18\n",
      "10    20\n",
      "11    22\n",
      "12    24\n",
      "dtype: int32\n",
      "\n",
      "20\n",
      "\n",
      "0     9\n",
      "1    10\n",
      "2    11\n",
      "3    12\n",
      "4     9\n",
      "5    10\n",
      "6    11\n",
      "7    12\n",
      "dtype: int64\n"
     ]
    }
   ],
   "source": [
    "# Various Operations on Series\n",
    "import pandas as pd\n",
    "import numpy as np\n",
    "a=np.arange(9,13)\n",
    "s2=pd.Series(index=a, data=a*2)\n",
    "print(s2)\n",
    "print()\n",
    "print(s2[10])\n",
    "print()\n",
    "lst=[9,10,11,12]\n",
    "s3=pd.Series(lst*2)\n",
    "print(s3)"
   ]
  },
  {
   "cell_type": "code",
   "execution_count": 14,
   "id": "4870baac-8eb2-4fcb-a032-81d02bf2efac",
   "metadata": {},
   "outputs": [
    {
     "name": "stdout",
     "output_type": "stream",
     "text": [
      "p         Pen\n",
      "e      Eraser\n",
      "s       Scale\n",
      "b        Book\n",
      "w    Whitener\n",
      "c     Colours\n",
      "dtype: object\n",
      "\n",
      "Index                :\t Index(['p', 'e', 's', 'b', 'w', 'c'], dtype='object')\n",
      "\n",
      "Values               :\t ['Pen' 'Eraser' 'Scale' 'Book' 'Whitener' 'Colours']\n",
      "\n",
      "Data Type            :\t object\n",
      "\n",
      "Shape                :\t (6,)\n",
      "\n",
      "No. of bytes         :\t 48\n",
      "\n",
      "No. of dimensions    :\t 1\n",
      "\n",
      "Size                 :\t 6\n",
      "\n",
      "Has NaNs?            :\t False\n",
      "\n",
      "Empty?               :\t False\n"
     ]
    }
   ],
   "source": [
    "# Various functions of Series\n",
    "import pandas as pd\n",
    "Fruits=[\"Pen\",\"Eraser\",\"Scale\",\"Book\",\"Whitener\",\"Colours\"]\n",
    "ser=pd.Series(Fruits, index=['p','e','s','b','w','c'])\n",
    "print(ser)\n",
    "print()\n",
    "print(\"Index                :\\t\",ser.index)\n",
    "print()\n",
    "print(\"Values               :\\t\",ser.values)\n",
    "print()\n",
    "print(\"Data Type            :\\t\",ser.dtype)\n",
    "print()\n",
    "print(\"Shape                :\\t\",ser.shape)\n",
    "print()\n",
    "print(\"No. of bytes         :\\t\",ser.nbytes)\n",
    "print()\n",
    "print(\"No. of dimensions    :\\t\",ser.ndim)\n",
    "print()\n",
    "print(\"Size                 :\\t\",ser.size)\n",
    "print()\n",
    "print(\"Has NaNs?            :\\t\",ser.hasnans)\n",
    "print()\n",
    "print(\"Empty?               :\\t\",ser.empty)"
   ]
  },
  {
   "cell_type": "code",
   "execution_count": 15,
   "id": "f3dd4e4a-ccfa-4787-aff3-f29b0de3f1eb",
   "metadata": {},
   "outputs": [
    {
     "name": "stdout",
     "output_type": "stream",
     "text": [
      "a     1.50\n",
      "b    12.75\n",
      "c    24.00\n",
      "d    35.25\n",
      "e    46.50\n",
      "dtype: float64\n",
      "\n",
      "b    12.75\n",
      "e    46.50\n",
      "c    24.00\n",
      "a     1.50\n",
      "d    35.25\n",
      "dtype: float64\n",
      "\n",
      "a     1.50\n",
      "b    12.75\n",
      "d    35.25\n",
      "e    46.50\n",
      "dtype: float64\n"
     ]
    }
   ],
   "source": [
    "# Reindexing and dropping an element\n",
    "import pandas as pd\n",
    "ob2=pd.Series([1.50,12.75,24,35.25,46.50], index=['a','b','c','d','e'])\n",
    "print(ob2)\n",
    "print()\n",
    "print(ob2.reindex(['b','e','c','a','d']))\n",
    "print()\n",
    "print(ob2.drop('c'))"
   ]
  },
  {
   "cell_type": "markdown",
   "id": "8a47501b-cc65-4b80-96bf-7fecb4fc0b81",
   "metadata": {},
   "source": [
    "Another important type of object in the pandas library is the DataFrame. This object is similar in form to a matrix as it consists of rows and columns. Both rows and columns can be indexed with integers or String names. One DataFrame can contain many different types of data types, but within a column, everything has to be the same data type. A column of a DataFrame is essentially a Series. All columns must have the same number of elements (rows).\n",
    "\n",
    "There are different ways to fill a DataFrame such as with a CSV file, a SQL query, a Python list, or a dictionary."
   ]
  },
  {
   "cell_type": "code",
   "execution_count": 19,
   "id": "31fef8a8-5592-40b2-bc44-f7831b5aa346",
   "metadata": {},
   "outputs": [
    {
     "name": "stdout",
     "output_type": "stream",
     "text": [
      "      n1  n2  n3\n",
      "row1  25  45  60\n",
      "row2  34  67  89\n",
      "row3  88  90  56\n"
     ]
    }
   ],
   "source": [
    "# Create a DataFrame\n",
    "import pandas as pd\n",
    "lis=[[25,45,60],[34,67,89],[88,90,56]]\n",
    "df=pd.DataFrame(lis, index=['row1','row2','row3'], columns=['n1','n2','n3'])\n",
    "print(df)"
   ]
  },
  {
   "cell_type": "code",
   "execution_count": 20,
   "id": "e7070a6e-76af-41b5-8d28-0f2e8cc355f1",
   "metadata": {},
   "outputs": [
    {
     "name": "stdout",
     "output_type": "stream",
     "text": [
      "   AB  CD\n",
      "0   1   5\n",
      "1   2   6\n",
      "2   3   7\n",
      "3   4   8\n"
     ]
    }
   ],
   "source": [
    "# Using Dictionary\n",
    "import pandas as pd\n",
    "s1=pd.Series([1,2,3,4])\n",
    "s2=pd.Series([5,6,7,8])\n",
    "df1=pd.DataFrame({'AB':s1, 'CD':s2})\n",
    "print(df1)"
   ]
  },
  {
   "cell_type": "code",
   "execution_count": 22,
   "id": "7c17461f-9e40-4cea-8362-795ab5d03b30",
   "metadata": {},
   "outputs": [
    {
     "name": "stdout",
     "output_type": "stream",
     "text": [
      "          Hindi  Maths  English  Science  Computer\n",
      "Aditi        99    100       96       97       100\n",
      "Ayesha       90     89      100       77        56\n",
      "Anushka      94     85       55       89        95\n",
      "Neil         73     83       66       95        99\n",
      "Himanshi     60     87       65       98        78\n",
      "\n",
      "Index    :\t Index(['Aditi', 'Ayesha', 'Anushka', 'Neil', 'Himanshi'], dtype='object')\n",
      "Columns  :\t Index(['Hindi', 'Maths', 'English', 'Science', 'Computer'], dtype='object')\n",
      "Axes:\n",
      "[Index(['Aditi', 'Ayesha', 'Anushka', 'Neil', 'Himanshi'], dtype='object'), Index(['Hindi', 'Maths', 'English', 'Science', 'Computer'], dtype='object')]\n",
      "\n",
      "Data Type:\n",
      "Hindi       int64\n",
      "Maths       int64\n",
      "English     int64\n",
      "Science     int64\n",
      "Computer    int64\n",
      "dtype: object\n",
      "\n",
      "No. of rows  :\t 5\n",
      "\n",
      "Count(rows):\n",
      "Hindi       5\n",
      "Maths       5\n",
      "English     5\n",
      "Science     5\n",
      "Computer    5\n",
      "dtype: int64\n",
      "\n",
      "Count(columns):\n",
      "Aditi       5\n",
      "Ayesha      5\n",
      "Anushka     5\n",
      "Neil        5\n",
      "Himanshi    5\n",
      "dtype: int64\n",
      "\n",
      "Shape        :\t (5, 5)\n",
      "\n",
      "Values:\n",
      "[[ 99 100  96  97 100]\n",
      " [ 90  89 100  77  56]\n",
      " [ 94  85  55  89  95]\n",
      " [ 73  83  66  95  99]\n",
      " [ 60  87  65  98  78]]\n",
      "\n",
      "No. of dimensions    :\t 2\n",
      "Size                 :\t 25\n",
      "Empty?               :\t False\n",
      "\n",
      "Transpose:\n",
      "          Aditi  Ayesha  Anushka  Neil  Himanshi\n",
      "Hindi        99      90       94    73        60\n",
      "Maths       100      89       85    83        87\n",
      "English      96     100       55    66        65\n",
      "Science      97      77       89    95        98\n",
      "Computer    100      56       95    99        78\n"
     ]
    }
   ],
   "source": [
    "# Various functions of DataFrame\n",
    "import pandas as pd\n",
    "d={'Hindi':{'Aditi':99,'Ayesha':90,'Anushka':94,'Neil':73,'Himanshi':60},\n",
    "  'Maths':{'Aditi':100,'Ayesha':89,'Anushka':85,'Neil':83,'Himanshi':87},\n",
    "  'English':{'Aditi':96,'Ayesha':100,'Anushka':55,'Neil':66,'Himanshi':65},\n",
    "  'Science':{'Aditi':97,'Ayesha':77,'Anushka':89,'Neil':95,'Himanshi':98},\n",
    "  'Computer':{'Aditi':100,'Ayesha':56,'Anushka':95,'Neil':99,'Himanshi':78},}\n",
    "prd=pd.DataFrame(d)\n",
    "print(prd)\n",
    "print()\n",
    "print(\"Index    :\\t\",prd.index)\n",
    "print(\"Columns  :\\t\",prd.columns)\n",
    "print(\"Axes:\")\n",
    "print(prd.axes)\n",
    "print()\n",
    "print(\"Data Type:\")\n",
    "print(prd.dtypes)\n",
    "print()\n",
    "print(\"No. of rows  :\\t\",len(prd))\n",
    "print()\n",
    "print(\"Count(rows):\")\n",
    "print(prd.count())\n",
    "print()\n",
    "print(\"Count(columns):\")\n",
    "print(prd.count(axis=1))\n",
    "print()\n",
    "print(\"Shape        :\\t\",prd.shape)\n",
    "print()\n",
    "print(\"Values:\")\n",
    "print(prd.values)\n",
    "print()\n",
    "print(\"No. of dimensions    :\\t\",prd.ndim)\n",
    "print(\"Size                 :\\t\",prd.size)\n",
    "print(\"Empty?               :\\t\",prd.empty)\n",
    "print()\n",
    "print(\"Transpose:\")\n",
    "print(prd.T)"
   ]
  },
  {
   "cell_type": "code",
   "execution_count": 38,
   "id": "a3782676-b49c-4c61-9b8f-444deb0fca39",
   "metadata": {},
   "outputs": [
    {
     "name": "stdout",
     "output_type": "stream",
     "text": [
      "         Population  Hospitals  Schools\n",
      "Delhi      10927986        189     7916\n",
      "Mumbai     12691836        208     8508\n",
      "Kolkata     4631392        149     7226\n",
      "Chennai     4328063        157     7617\n",
      "\n",
      "Delhi      10927986\n",
      "Mumbai     12691836\n",
      "Kolkata     4631392\n",
      "Chennai     4328063\n",
      "Name: Population, dtype: int64\n",
      "\n",
      "Delhi      7916\n",
      "Mumbai     8508\n",
      "Kolkata    7226\n",
      "Chennai    7617\n",
      "Name: Schools, dtype: int64\n",
      "\n",
      "         Population  Hospitals\n",
      "Delhi      10927986        189\n",
      "Mumbai     12691836        208\n",
      "Kolkata     4631392        149\n",
      "Chennai     4328063        157\n",
      "\n",
      "         Population  Hospitals  Schools\n",
      "Mumbai     12691836        208     8508\n",
      "Kolkata     4631392        149     7226\n",
      "\n",
      "         Population  Hospitals\n",
      "Delhi      10927986        189\n",
      "Mumbai     12691836        208\n",
      "Kolkata     4631392        149\n",
      "Chennai     4328063        157\n",
      "\n",
      "         Population  Hospitals\n",
      "Mumbai     12691836        208\n",
      "Kolkata     4631392        149\n",
      "\n",
      "         Schools\n",
      "Delhi       7916\n",
      "Mumbai      8508\n",
      "Kolkata     7226\n",
      "\n",
      "12691836\n",
      "\n",
      "7617\n",
      "\n",
      "7226\n",
      "\n",
      "         Population  Hospitals  Schools  Density\n",
      "Delhi      10927986        189     7916     1500\n",
      "Mumbai     12691836        208     8508     1219\n",
      "Kolkata     4631392        149     7226     1630\n",
      "Chennai     4328063        157     7617     1050\n",
      "\n",
      "         Population  Hospitals  Schools  Density  NewColumn\n",
      "Delhi      10927986        189     7916     1500        245\n",
      "Mumbai     12691836        208     8508     1219       2345\n",
      "Kolkata     4631392        149     7226     1630         34\n",
      "Chennai     4328063        157     7617     1050        436\n",
      "\n",
      "           Population  Hospitals  Schools  Density\n",
      "Delhi        10927986        189     7916     1500\n",
      "Mumbai       12691836        208     8508     1219\n",
      "Kolkata       4631392        149     7226     1630\n",
      "Chennai       4328063        157     7617     1050\n",
      "Bengaluru     2355413        344     3455       39\n",
      "\n",
      "           Population  Hospitals  Schools\n",
      "Delhi        10927986        189     7916\n",
      "Mumbai       12691836        208     8508\n",
      "Kolkata       4631392        149     7226\n",
      "Chennai       4328063        157     7617\n",
      "Bengaluru     2355413        344     3455\n",
      "\n",
      "         Population  Hospitals  Schools\n",
      "Delhi      10927986        189     7916\n",
      "Mumbai     12691836        208     8508\n",
      "Kolkata     4631392        149     7226\n",
      "Chennai     4328063        157     7617\n"
     ]
    }
   ],
   "source": [
    "import pandas as pd\n",
    "dt={'Population':[10927986,12691836,4631392,4328063],\n",
    "   'Hospitals':[189,208,149,157],\n",
    "   'Schools':[7916,8508,7226,7617]}\n",
    "dtf5=pd.DataFrame(dt, index=['Delhi','Mumbai','Kolkata','Chennai'])\n",
    "print(dtf5)\n",
    "print()\n",
    "print(dtf5['Population'])\n",
    "print()\n",
    "print(dtf5.Schools)\n",
    "print()\n",
    "print(dtf5[['Population','Hospitals']])\n",
    "print()\n",
    "print(dtf5.loc['Mumbai':'Kolkata',:])\n",
    "print()\n",
    "print(dtf5.loc[:,'Population':'Hospitals'])\n",
    "print()\n",
    "print(dtf5.loc['Mumbai':'Kolkata','Population':'Hospitals'])\n",
    "print()\n",
    "print(dtf5.iloc[0:3,2:])\n",
    "print()\n",
    "print(dtf5.Population['Mumbai'])\n",
    "print()\n",
    "print(dtf5.at['Chennai','Schools'])\n",
    "print()\n",
    "print(dtf5.iat[2,2])\n",
    "print()\n",
    "dtf5['Density']=[1500,1219,1630,1050]\n",
    "print(dtf5)\n",
    "print()\n",
    "print(dtf5.assign(NewColumn=[245,2345,34,436]))\n",
    "print()\n",
    "dtf5.loc['Bengaluru'] = [2355413, 344, 3455, 39]\n",
    "print(dtf5)\n",
    "print()\n",
    "del dtf5['Density']\n",
    "print(dtf5)\n",
    "print()\n",
    "dtf5 = dtf5.drop(['Bengaluru'])\n",
    "print(dtf5)"
   ]
  },
  {
   "cell_type": "code",
   "execution_count": 24,
   "id": "3ffa78c6-3151-4cec-8014-febd5545af74",
   "metadata": {},
   "outputs": [
    {
     "name": "stdout",
     "output_type": "stream",
     "text": [
      "            Days  No. of Classes\n",
      "True      Monday               6\n",
      "False    Tuesday               0\n",
      "True   Wednesday               3\n",
      "False   Thursday               0\n",
      "True      Friday               8\n",
      "\n",
      "           Days  No. of Classes\n",
      "True     Monday               6\n",
      "True  Wednesday               3\n",
      "True     Friday               8\n"
     ]
    }
   ],
   "source": [
    "import pandas as pd\n",
    "Days=['Monday','Tuesday','Wednesday','Thursday','Friday']\n",
    "Classes=[6,0,3,0,8]\n",
    "dc={'Days':Days,'No. of Classes':Classes}\n",
    "classdf=pd.DataFrame(dc, index=[True,False,True,False,True])\n",
    "print(classdf)\n",
    "print()\n",
    "print(classdf.loc[True])"
   ]
  }
 ],
 "metadata": {
  "kernelspec": {
   "display_name": "Python 3 (ipykernel)",
   "language": "python",
   "name": "python3"
  },
  "language_info": {
   "codemirror_mode": {
    "name": "ipython",
    "version": 3
   },
   "file_extension": ".py",
   "mimetype": "text/x-python",
   "name": "python",
   "nbconvert_exporter": "python",
   "pygments_lexer": "ipython3",
   "version": "3.11.5"
  }
 },
 "nbformat": 4,
 "nbformat_minor": 5
}
